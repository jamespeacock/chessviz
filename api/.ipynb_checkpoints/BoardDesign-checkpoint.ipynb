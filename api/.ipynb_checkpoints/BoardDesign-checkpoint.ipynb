{
 "cells": [
  {
   "cell_type": "code",
   "execution_count": 1,
   "metadata": {},
   "outputs": [],
   "source": [
    "import numpy as np\n",
    "import matplotlib.pyplot as plt"
   ]
  },
  {
   "cell_type": "code",
   "execution_count": null,
   "metadata": {},
   "outputs": [],
   "source": [
    "sys.path\n"
   ]
  },
  {
   "cell_type": "code",
   "execution_count": 2,
   "metadata": {},
   "outputs": [],
   "source": [
    "def lookup_color(w,b):\n",
    "    color_map = {\n",
    "        -3: \"#FE0002\",\n",
    "        -2: \"#D80027\",\n",
    "        -1: \"#A1015D\",\n",
    "        0: \"#888888\",\n",
    "        1: \"#63009E\",\n",
    "        2: \"#2A00D5\",\n",
    "        3: \"#0302FC\"\n",
    "    }\n",
    "\n",
    "    total = w+b\n",
    "    sign = w-b\n",
    "    sign = min(sign, 3) if sign > 0 else max(-3, sign)\n",
    "    return color_map[sign]\n",
    "\n",
    "def color_board(atk):\n",
    "    bgs = {}\n",
    "    for s in SQUARES:\n",
    "        bg[s] = lookup_color(atk['w'][s], atk['b'][s])\n",
    "    "
   ]
  },
  {
   "cell_type": "code",
   "execution_count": null,
   "metadata": {},
   "outputs": [],
   "source": [
    "#FE0002\n",
    "#D80027\n",
    "#A1015D\n",
    "#63009E\n",
    "#2A00D5\n",
    "#0302FC\n"
   ]
  }
 ],
 "metadata": {
  "kernelspec": {
   "display_name": "chessviz",
   "language": "python",
   "name": "chessviz"
  },
  "language_info": {
   "codemirror_mode": {
    "name": "ipython",
    "version": 3
   },
   "file_extension": ".py",
   "mimetype": "text/x-python",
   "name": "python",
   "nbconvert_exporter": "python",
   "pygments_lexer": "ipython3",
   "version": "3.6.6"
  }
 },
 "nbformat": 4,
 "nbformat_minor": 4
}
